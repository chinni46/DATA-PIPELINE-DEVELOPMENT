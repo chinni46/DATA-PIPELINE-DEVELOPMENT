{
 "cells": [
  {
   "cell_type": "markdown",
   "id": "9aaf06dc",
   "metadata": {},
   "source": [
    "# Task 1 (Pro Level): Data Pipeline for ETL\n",
    "\n",
    "**Internship**: CODTECH Data Science Track\n",
    "\n",
    "---\n",
    "This notebook implements a professional-level ETL (Extract, Transform, Load) pipeline using the Iris dataset."
   ]
  },
  {
   "cell_type": "markdown",
   "id": "2bb1b72e",
   "metadata": {},
   "source": [
    "## 🔍 Step 1: Import Libraries"
   ]
  },
  {
   "cell_type": "code",
   "execution_count": null,
   "id": "66d1e780",
   "metadata": {},
   "outputs": [],
   "source": [
    "import pandas as pd\n",
    "import numpy as np\n",
    "import seaborn as sns\n",
    "import matplotlib.pyplot as plt\n",
    "from sklearn.datasets import load_iris\n",
    "from sklearn.preprocessing import LabelEncoder, StandardScaler\n",
    "from sklearn.pipeline import Pipeline\n",
    "from sklearn.compose import ColumnTransformer\n",
    "from sklearn.impute import SimpleImputer\n",
    "import warnings\n",
    "warnings.filterwarnings(\"ignore\")"
   ]
  },
  {
   "cell_type": "markdown",
   "id": "22a97b19",
   "metadata": {},
   "source": [
    "## 📥 Step 2: Define Functions"
   ]
  },
  {
   "cell_type": "code",
   "execution_count": null,
   "id": "6cb5bfb9",
   "metadata": {},
   "outputs": [],
   "source": [
    "def load_data():\n",
    "    iris = load_iris()\n",
    "    df = pd.DataFrame(iris.data, columns=iris.feature_names)\n",
    "    df['target'] = iris.target\n",
    "    return df\n",
    "\n",
    "def preprocess_data(df):\n",
    "    df.drop_duplicates(inplace=True)\n",
    "    return df\n",
    "\n",
    "def transform_data(df):\n",
    "    features = df.columns[:-1]\n",
    "    scaler = StandardScaler()\n",
    "    df[features] = scaler.fit_transform(df[features])\n",
    "    encoder = LabelEncoder()\n",
    "    df['target'] = encoder.fit_transform(df['target'])\n",
    "    return df\n",
    "\n",
    "def save_data(df, path=\"processed_iris_data.csv\"):\n",
    "    df.to_csv(path, index=False)\n",
    "    print(f\"✅ Data saved to: {path}\")"
   ]
  },
  {
   "cell_type": "markdown",
   "id": "e22cfa6d",
   "metadata": {},
   "source": [
    "## 📊 Step 3: Load and Explore Data"
   ]
  },
  {
   "cell_type": "code",
   "execution_count": null,
   "id": "420b0a1f",
   "metadata": {},
   "outputs": [],
   "source": [
    "df = load_data()\n",
    "print(df.head())\n",
    "print(df.describe())\n",
    "print(df.info())"
   ]
  },
  {
   "cell_type": "markdown",
   "id": "f9e656db",
   "metadata": {},
   "source": [
    "## 🧼 Step 4: Preprocess"
   ]
  },
  {
   "cell_type": "code",
   "execution_count": null,
   "id": "1c97bd8a",
   "metadata": {},
   "outputs": [],
   "source": [
    "df = preprocess_data(df)\n",
    "print(f\"✅ Data shape after preprocessing: {df.shape}\")"
   ]
  },
  {
   "cell_type": "markdown",
   "id": "00f79341",
   "metadata": {},
   "source": [
    "## 🔁 Step 5: Transform"
   ]
  },
  {
   "cell_type": "code",
   "execution_count": null,
   "id": "b5fd2a59",
   "metadata": {},
   "outputs": [],
   "source": [
    "df = transform_data(df)\n",
    "print(df.head())"
   ]
  },
  {
   "cell_type": "markdown",
   "id": "5d468f80",
   "metadata": {},
   "source": [
    "## 📈 Step 6: Visualize"
   ]
  },
  {
   "cell_type": "code",
   "execution_count": null,
   "id": "45a6993e",
   "metadata": {},
   "outputs": [],
   "source": [
    "sns.pairplot(df, hue='target')\n",
    "plt.suptitle(\"Iris Data Visualization\", y=1.02)\n",
    "plt.show()"
   ]
  },
  {
   "cell_type": "markdown",
   "id": "6d102d13",
   "metadata": {},
   "source": [
    "## 💾 Step 7: Save Data"
   ]
  },
  {
   "cell_type": "code",
   "execution_count": null,
   "id": "ba25c873",
   "metadata": {},
   "outputs": [],
   "source": [
    "save_data(df)"
   ]
  },
  {
   "cell_type": "markdown",
   "id": "240f13a1",
   "metadata": {},
   "source": [
    "## ✅ Step 8: Assertions / Checks"
   ]
  },
  {
   "cell_type": "code",
   "execution_count": null,
   "id": "3d53d7ba",
   "metadata": {},
   "outputs": [],
   "source": [
    "assert not df.isnull().values.any(), \"There are still missing values!\"\n",
    "assert df.shape[0] > 0, \"No rows in processed data!\"\n",
    "print(\"✅ All checks passed!\")"
   ]
  }
 ],
 "metadata": {},
 "nbformat": 4,
 "nbformat_minor": 5
}
